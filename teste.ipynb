{
 "cells": [
  {
   "metadata": {
    "ExecuteTime": {
     "end_time": "2025-10-05T00:40:46.409373Z",
     "start_time": "2025-10-05T00:40:46.405039Z"
    }
   },
   "cell_type": "code",
   "source": [
    "import cv2\n",
    "import numpy as np\n",
    "\n",
    "def define_shark_range(chloro_img: str, ptk_img: str, temp_img: str, chlro_threshold: int, ptk_threshold: int, temp_threshold: int) -> np.array:\n",
    "    chloro = cv2.imread(chloro_img, cv2.IMREAD_GRAYSCALE)\n",
    "    ptk = cv2.imread(ptk_img, cv2.IMREAD_GRAYSCALE)\n",
    "    temp = cv2.imread(temp_img, cv2.IMREAD_GRAYSCALE)\n",
    "\n",
    "    # Apply thresholds\n",
    "    chloro_mask = chloro >= chlro_threshold\n",
    "    ptk_mask = ptk >= ptk_threshold\n",
    "    temp_mask = temp >= temp_threshold\n",
    "\n",
    "    overlap_mask = chloro_mask & ptk_mask & temp_mask\n",
    "\n",
    "    overlap_img = (overlap_mask.astype(np.uint8)) * 255\n",
    "\n",
    "    return overlap_img"
   ],
   "id": "14b86d2446de78a6",
   "outputs": [],
   "execution_count": 25
  },
  {
   "metadata": {
    "ExecuteTime": {
     "end_time": "2025-10-05T00:40:48.989980Z",
     "start_time": "2025-10-05T00:40:48.263956Z"
    }
   },
   "cell_type": "code",
   "source": [
    "img = define_shark_range('images/clorofila.png', 'images/fitoplancton.png', 'images/temperatura.png', 150, 200, 150)\n",
    "cv2.imwrite('images/merged3.png', img)"
   ],
   "id": "2a1d1c02eeb138e4",
   "outputs": [
    {
     "data": {
      "text/plain": [
       "True"
      ]
     },
     "execution_count": 26,
     "metadata": {},
     "output_type": "execute_result"
    }
   ],
   "execution_count": 26
  },
  {
   "metadata": {},
   "cell_type": "code",
   "outputs": [],
   "execution_count": null,
   "source": "import streamlit as st",
   "id": "2740e0955a8c2062"
  }
 ],
 "metadata": {
  "kernelspec": {
   "display_name": "Python 3",
   "language": "python",
   "name": "python3"
  },
  "language_info": {
   "codemirror_mode": {
    "name": "ipython",
    "version": 2
   },
   "file_extension": ".py",
   "mimetype": "text/x-python",
   "name": "python",
   "nbconvert_exporter": "python",
   "pygments_lexer": "ipython2",
   "version": "2.7.6"
  }
 },
 "nbformat": 4,
 "nbformat_minor": 5
}
